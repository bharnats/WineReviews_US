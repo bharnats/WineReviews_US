{
 "cells": [
  {
   "cell_type": "code",
   "execution_count": 1,
   "metadata": {
    "collapsed": true
   },
   "outputs": [],
   "source": [
    "import pandas as pd\n",
    "import sqlalchemy\n",
    "from sqlalchemy.ext.automap import automap_base\n",
    "from sqlalchemy.orm import Session\n",
    "from sqlalchemy import create_engine, func, MetaData, Table, Column, ForeignKey,Integer"
   ]
  },
  {
   "cell_type": "code",
   "execution_count": 2,
   "metadata": {
    "collapsed": true
   },
   "outputs": [],
   "source": [
    "# Create Database Connection\n",
    "engine = create_engine('sqlite:///../raw_data/full_data/wine.sqlite')\n",
    "Base = automap_base()"
   ]
  },
  {
   "cell_type": "code",
   "execution_count": 3,
   "metadata": {},
   "outputs": [
    {
     "data": {
      "text/plain": [
       "['reviews']"
      ]
     },
     "execution_count": 3,
     "metadata": {},
     "output_type": "execute_result"
    }
   ],
   "source": [
    "Base.prepare(engine, reflect=True)\n",
    "Base.classes.keys()"
   ]
  },
  {
   "cell_type": "code",
   "execution_count": 4,
   "metadata": {
    "collapsed": true
   },
   "outputs": [],
   "source": [
    "reviews=Base.classes.reviews\n",
    "# point=Base.classes.prpt\n",
    "session=Session(engine)"
   ]
  },
  {
   "cell_type": "code",
   "execution_count": 5,
   "metadata": {},
   "outputs": [
    {
     "data": {
      "text/plain": [
       "{'_sa_instance_state': <sqlalchemy.orm.state.InstanceState at 0x2334eed5be0>,\n",
       " 'country': 'US',\n",
       " 'description': 'Tart and snappy, the flavors of lime flesh and rind dominate. Some green pineapple pokes through, with crisp acidity underscoring the flavors. The wine was all stainless-steel fermented.',\n",
       " 'designation': None,\n",
       " 'id': 1,\n",
       " 'points': 87.0,\n",
       " 'price': 14.0,\n",
       " 'province': 'Oregon',\n",
       " 'region_1': 'Willamette Valley',\n",
       " 'region_2': 'Willamette Valley',\n",
       " 'taster_name': 'Paul Gregutt',\n",
       " 'taster_twitter_handle': '@paulgwine\\xa0',\n",
       " 'title': 'Rainstorm 2013 Pinot Gris (Willamette Valley)',\n",
       " 'variety': 'Pinot Gris',\n",
       " 'winery': 'Rainstorm'}"
      ]
     },
     "execution_count": 5,
     "metadata": {},
     "output_type": "execute_result"
    }
   ],
   "source": [
    "first_row=session.query(reviews).first()\n",
    "first_row.__dict__"
   ]
  },
  {
   "cell_type": "code",
   "execution_count": 6,
   "metadata": {},
   "outputs": [
    {
     "data": {
      "text/plain": [
       "257"
      ]
     },
     "execution_count": 6,
     "metadata": {},
     "output_type": "execute_result"
    }
   ],
   "source": [
    "titles=session.query(reviews.variety).distinct().count()\n",
    "titles"
   ]
  },
  {
   "cell_type": "code",
   "execution_count": 16,
   "metadata": {},
   "outputs": [],
   "source": [
    "state=[]\n",
    "variety=[]\n",
    "points=[]\n",
    "price=[]\n",
    "title_cnt=[]\n",
    "\n",
    "for row in session.query(reviews.province,reviews.variety,func.avg(reviews.points).label('Average_Point'),\\\n",
    "                         func.avg(reviews.price).label('Average_Price'),func.count(reviews.title).label('Title_cnt')).group_by(reviews.province,\\\n",
    "                        reviews.variety).order_by(reviews.province).all():\n",
    "    state.append(row.province)\n",
    "    variety.append(row.variety)\n",
    "    title_cnt.append(row.Title_cnt)\n",
    "    points.append(round(row.Average_Point,2))\n",
    "    if (row.Average_Price != None):\n",
    "        price.append(round(row.Average_Price))\n",
    "    else:\n",
    "        price.append(0)\n"
   ]
  },
  {
   "cell_type": "code",
   "execution_count": 17,
   "metadata": {},
   "outputs": [
    {
     "data": {
      "text/html": [
       "<div>\n",
       "<style>\n",
       "    .dataframe thead tr:only-child th {\n",
       "        text-align: right;\n",
       "    }\n",
       "\n",
       "    .dataframe thead th {\n",
       "        text-align: left;\n",
       "    }\n",
       "\n",
       "    .dataframe tbody tr th {\n",
       "        vertical-align: top;\n",
       "    }\n",
       "</style>\n",
       "<table border=\"1\" class=\"dataframe\">\n",
       "  <thead>\n",
       "    <tr style=\"text-align: right;\">\n",
       "      <th></th>\n",
       "      <th>State</th>\n",
       "      <th>Variety</th>\n",
       "      <th>Avg_Points</th>\n",
       "      <th>Avg_Price</th>\n",
       "      <th>Title_Count</th>\n",
       "    </tr>\n",
       "  </thead>\n",
       "  <tbody>\n",
       "    <tr>\n",
       "      <th>0</th>\n",
       "      <td>America</td>\n",
       "      <td>Barbera</td>\n",
       "      <td>83.00</td>\n",
       "      <td>18</td>\n",
       "      <td>1</td>\n",
       "    </tr>\n",
       "    <tr>\n",
       "      <th>1</th>\n",
       "      <td>America</td>\n",
       "      <td>Bordeaux-style Red Blend</td>\n",
       "      <td>87.00</td>\n",
       "      <td>38</td>\n",
       "      <td>2</td>\n",
       "    </tr>\n",
       "    <tr>\n",
       "      <th>2</th>\n",
       "      <td>America</td>\n",
       "      <td>Cabernet Sauvignon</td>\n",
       "      <td>85.50</td>\n",
       "      <td>20</td>\n",
       "      <td>10</td>\n",
       "    </tr>\n",
       "    <tr>\n",
       "      <th>3</th>\n",
       "      <td>America</td>\n",
       "      <td>Champagne Blend</td>\n",
       "      <td>87.00</td>\n",
       "      <td>16</td>\n",
       "      <td>1</td>\n",
       "    </tr>\n",
       "    <tr>\n",
       "      <th>4</th>\n",
       "      <td>America</td>\n",
       "      <td>Chardonnay</td>\n",
       "      <td>84.88</td>\n",
       "      <td>16</td>\n",
       "      <td>8</td>\n",
       "    </tr>\n",
       "  </tbody>\n",
       "</table>\n",
       "</div>"
      ],
      "text/plain": [
       "     State                   Variety  Avg_Points  Avg_Price  Title_Count\n",
       "0  America                   Barbera       83.00         18            1\n",
       "1  America  Bordeaux-style Red Blend       87.00         38            2\n",
       "2  America        Cabernet Sauvignon       85.50         20           10\n",
       "3  America           Champagne Blend       87.00         16            1\n",
       "4  America                Chardonnay       84.88         16            8"
      ]
     },
     "execution_count": 17,
     "metadata": {},
     "output_type": "execute_result"
    }
   ],
   "source": [
    "state_prpt=pd.DataFrame({\"State\":state,\n",
    "                    \"Variety\":variety,\n",
    "                    \"Avg_Points\":points,\n",
    "                    \"Avg_Price\":price,\n",
    "                    \"Title_Count\":title_cnt}, columns=['State','Variety','Avg_Points','Avg_Price','Title_Count'])\n",
    "\n",
    "state_prpt.head()"
   ]
  },
  {
   "cell_type": "code",
   "execution_count": 18,
   "metadata": {
    "collapsed": true
   },
   "outputs": [],
   "source": [
    "engine = create_engine('sqlite:///../raw_data/full_data/wine.sqlite')\n",
    "state_prpt.to_sql('prpt', engine, if_exists='replace')"
   ]
  },
  {
   "cell_type": "code",
   "execution_count": 43,
   "metadata": {
    "collapsed": true
   },
   "outputs": [],
   "source": [
    "df=pd.read_sql('prpt',engine)\n",
    "df.head()\n",
    "st='Ohio'"
   ]
  },
  {
   "cell_type": "code",
   "execution_count": 20,
   "metadata": {},
   "outputs": [
    {
     "data": {
      "text/html": [
       "<div>\n",
       "<style>\n",
       "    .dataframe thead tr:only-child th {\n",
       "        text-align: right;\n",
       "    }\n",
       "\n",
       "    .dataframe thead th {\n",
       "        text-align: left;\n",
       "    }\n",
       "\n",
       "    .dataframe tbody tr th {\n",
       "        vertical-align: top;\n",
       "    }\n",
       "</style>\n",
       "<table border=\"1\" class=\"dataframe\">\n",
       "  <thead>\n",
       "    <tr style=\"text-align: right;\">\n",
       "      <th></th>\n",
       "      <th>index</th>\n",
       "      <th>State</th>\n",
       "      <th>Variety</th>\n",
       "      <th>Avg_Points</th>\n",
       "      <th>Avg_Price</th>\n",
       "      <th>Title_Count</th>\n",
       "    </tr>\n",
       "  </thead>\n",
       "  <tbody>\n",
       "    <tr>\n",
       "      <th>450</th>\n",
       "      <td>450</td>\n",
       "      <td>Ohio</td>\n",
       "      <td>Cabernet Franc</td>\n",
       "      <td>83.00</td>\n",
       "      <td>15</td>\n",
       "      <td>1</td>\n",
       "    </tr>\n",
       "    <tr>\n",
       "      <th>451</th>\n",
       "      <td>451</td>\n",
       "      <td>Ohio</td>\n",
       "      <td>Cabernet Sauvignon</td>\n",
       "      <td>84.00</td>\n",
       "      <td>12</td>\n",
       "      <td>1</td>\n",
       "    </tr>\n",
       "    <tr>\n",
       "      <th>452</th>\n",
       "      <td>452</td>\n",
       "      <td>Ohio</td>\n",
       "      <td>Chardonnay</td>\n",
       "      <td>85.50</td>\n",
       "      <td>14</td>\n",
       "      <td>2</td>\n",
       "    </tr>\n",
       "    <tr>\n",
       "      <th>453</th>\n",
       "      <td>453</td>\n",
       "      <td>Ohio</td>\n",
       "      <td>Nebbiolo</td>\n",
       "      <td>80.00</td>\n",
       "      <td>15</td>\n",
       "      <td>1</td>\n",
       "    </tr>\n",
       "    <tr>\n",
       "      <th>454</th>\n",
       "      <td>454</td>\n",
       "      <td>Ohio</td>\n",
       "      <td>Riesling</td>\n",
       "      <td>84.43</td>\n",
       "      <td>14</td>\n",
       "      <td>7</td>\n",
       "    </tr>\n",
       "  </tbody>\n",
       "</table>\n",
       "</div>"
      ],
      "text/plain": [
       "     index State             Variety  Avg_Points  Avg_Price  Title_Count\n",
       "450    450  Ohio      Cabernet Franc       83.00         15            1\n",
       "451    451  Ohio  Cabernet Sauvignon       84.00         12            1\n",
       "452    452  Ohio          Chardonnay       85.50         14            2\n",
       "453    453  Ohio            Nebbiolo       80.00         15            1\n",
       "454    454  Ohio            Riesling       84.43         14            7"
      ]
     },
     "execution_count": 20,
     "metadata": {},
     "output_type": "execute_result"
    }
   ],
   "source": [
    "df[(df['State']==st)]"
   ]
  },
  {
   "cell_type": "code",
   "execution_count": 21,
   "metadata": {},
   "outputs": [
    {
     "data": {
      "text/plain": [
       "'[{\"index\":450,\"State\":\"Ohio\",\"Variety\":\"Cabernet Franc\",\"Avg_Points\":83.0,\"Avg_Price\":15,\"Title_Count\":1},{\"index\":451,\"State\":\"Ohio\",\"Variety\":\"Cabernet Sauvignon\",\"Avg_Points\":84.0,\"Avg_Price\":12,\"Title_Count\":1},{\"index\":452,\"State\":\"Ohio\",\"Variety\":\"Chardonnay\",\"Avg_Points\":85.5,\"Avg_Price\":14,\"Title_Count\":2},{\"index\":453,\"State\":\"Ohio\",\"Variety\":\"Nebbiolo\",\"Avg_Points\":80.0,\"Avg_Price\":15,\"Title_Count\":1},{\"index\":454,\"State\":\"Ohio\",\"Variety\":\"Riesling\",\"Avg_Points\":84.43,\"Avg_Price\":14,\"Title_Count\":7}]'"
      ]
     },
     "execution_count": 21,
     "metadata": {},
     "output_type": "execute_result"
    }
   ],
   "source": [
    "df[(df['State']==st)].to_json(orient='records')\n",
    "# to_json(orient='records')"
   ]
  },
  {
   "cell_type": "code",
   "execution_count": 13,
   "metadata": {
    "collapsed": true
   },
   "outputs": [],
   "source": [
    "st=list(df['State'].unique())"
   ]
  },
  {
   "cell_type": "code",
   "execution_count": 14,
   "metadata": {},
   "outputs": [
    {
     "data": {
      "text/plain": [
       "['America',\n",
       " 'Arizona',\n",
       " 'California',\n",
       " 'Colorado',\n",
       " 'Connecticut',\n",
       " 'Hawaii',\n",
       " 'Idaho',\n",
       " 'Illinois',\n",
       " 'Iowa',\n",
       " 'Kentucky',\n",
       " 'Massachusetts',\n",
       " 'Michigan',\n",
       " 'Missouri',\n",
       " 'Nevada',\n",
       " 'New Jersey',\n",
       " 'New Mexico',\n",
       " 'New York',\n",
       " 'North Carolina',\n",
       " 'Ohio',\n",
       " 'Oregon',\n",
       " 'Pennsylvania',\n",
       " 'Rhode Island',\n",
       " 'Texas',\n",
       " 'Vermont',\n",
       " 'Virginia',\n",
       " 'Washington',\n",
       " 'Washington-Oregon']"
      ]
     },
     "execution_count": 14,
     "metadata": {},
     "output_type": "execute_result"
    }
   ],
   "source": [
    "st"
   ]
  },
  {
   "cell_type": "code",
   "execution_count": 44,
   "metadata": {
    "collapsed": true
   },
   "outputs": [],
   "source": [
    "state_avg=pd.read_sql('prpt',engine)\n",
    "stateData=state_avg[(state_avg['State']==st)]#.to_json(orient='records')"
   ]
  },
  {
   "cell_type": "code",
   "execution_count": 45,
   "metadata": {},
   "outputs": [
    {
     "data": {
      "text/plain": [
       "['Ohio', 'Ohio', 'Ohio', 'Ohio', 'Ohio']"
      ]
     },
     "execution_count": 45,
     "metadata": {},
     "output_type": "execute_result"
    }
   ],
   "source": [
    "stateData['State'].values.tolist()"
   ]
  },
  {
   "cell_type": "code",
   "execution_count": 46,
   "metadata": {
    "collapsed": true
   },
   "outputs": [],
   "source": [
    "data = [{\n",
    "    \"otu_ids\": stateData['Avg_Points'].values.tolist(),\n",
    "    \"sample_values\": stateData['Avg_Price'].values.tolist()\n",
    "}]"
   ]
  },
  {
   "cell_type": "code",
   "execution_count": 47,
   "metadata": {},
   "outputs": [
    {
     "data": {
      "text/plain": [
       "[83.0, 84.0, 85.5, 80.0, 84.43]"
      ]
     },
     "execution_count": 47,
     "metadata": {},
     "output_type": "execute_result"
    }
   ],
   "source": [
    "data[0]['otu_ids']"
   ]
  },
  {
   "cell_type": "code",
   "execution_count": null,
   "metadata": {
    "collapsed": true
   },
   "outputs": [],
   "source": []
  }
 ],
 "metadata": {
  "kernelspec": {
   "display_name": "Python 3",
   "language": "python",
   "name": "python3"
  },
  "language_info": {
   "codemirror_mode": {
    "name": "ipython",
    "version": 3
   },
   "file_extension": ".py",
   "mimetype": "text/x-python",
   "name": "python",
   "nbconvert_exporter": "python",
   "pygments_lexer": "ipython3",
   "version": "3.6.2"
  }
 },
 "nbformat": 4,
 "nbformat_minor": 2
}
