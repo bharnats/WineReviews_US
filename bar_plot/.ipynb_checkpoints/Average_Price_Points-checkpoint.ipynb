{
 "cells": [
  {
   "cell_type": "code",
   "execution_count": 12,
   "metadata": {},
   "outputs": [],
   "source": [
    "import pandas as pd\n",
    "import sqlalchemy\n",
    "from sqlalchemy.ext.automap import automap_base\n",
    "from sqlalchemy.orm import Session\n",
    "from sqlalchemy import create_engine, func, MetaData"
   ]
  },
  {
   "cell_type": "code",
   "execution_count": 2,
   "metadata": {
    "collapsed": true
   },
   "outputs": [],
   "source": [
    "# Create Database Connection\n",
    "engine = create_engine('sqlite:///../raw_data/full_data/wine.sqlite')\n",
    "Base = automap_base()"
   ]
  },
  {
   "cell_type": "code",
   "execution_count": 3,
   "metadata": {},
   "outputs": [
    {
     "data": {
      "text/plain": [
       "['reviews']"
      ]
     },
     "execution_count": 3,
     "metadata": {},
     "output_type": "execute_result"
    }
   ],
   "source": [
    "Base.prepare(engine, reflect=True)\n",
    "Base.classes.keys()"
   ]
  },
  {
   "cell_type": "code",
   "execution_count": 4,
   "metadata": {
    "collapsed": true
   },
   "outputs": [],
   "source": [
    "reviews=Base.classes.reviews\n",
    "session=Session(engine)"
   ]
  },
  {
   "cell_type": "code",
   "execution_count": 5,
   "metadata": {},
   "outputs": [
    {
     "data": {
      "text/plain": [
       "{'_sa_instance_state': <sqlalchemy.orm.state.InstanceState at 0x178b589f860>,\n",
       " 'country': 'US',\n",
       " 'description': 'Tart and snappy, the flavors of lime flesh and rind dominate. Some green pineapple pokes through, with crisp acidity underscoring the flavors. The wine was all stainless-steel fermented.',\n",
       " 'designation': None,\n",
       " 'id': 1,\n",
       " 'points': 87.0,\n",
       " 'price': 14.0,\n",
       " 'province': 'Oregon',\n",
       " 'region_1': 'Willamette Valley',\n",
       " 'region_2': 'Willamette Valley',\n",
       " 'taster_name': 'Paul Gregutt',\n",
       " 'taster_twitter_handle': '@paulgwine\\xa0',\n",
       " 'title': 'Rainstorm 2013 Pinot Gris (Willamette Valley)',\n",
       " 'variety': 'Pinot Gris',\n",
       " 'winery': 'Rainstorm'}"
      ]
     },
     "execution_count": 5,
     "metadata": {},
     "output_type": "execute_result"
    }
   ],
   "source": [
    "first_row=session.query(reviews).first()\n",
    "first_row.__dict__"
   ]
  },
  {
   "cell_type": "code",
   "execution_count": 6,
   "metadata": {},
   "outputs": [
    {
     "data": {
      "text/plain": [
       "257"
      ]
     },
     "execution_count": 6,
     "metadata": {},
     "output_type": "execute_result"
    }
   ],
   "source": [
    "titles=session.query(reviews.variety).distinct().count()\n",
    "titles"
   ]
  },
  {
   "cell_type": "code",
   "execution_count": 7,
   "metadata": {},
   "outputs": [],
   "source": [
    "state=[]\n",
    "variety=[]\n",
    "points=[]\n",
    "price=[]\n",
    "\n",
    "for row in session.query(reviews.province,reviews.variety,func.avg(reviews.points).label('Average_Point'),\\\n",
    "                         func.avg(reviews.price).label('Average_Price')).group_by(reviews.province,\\\n",
    "                        reviews.variety).order_by(reviews.province).all():\n",
    "    state.append(row.province)\n",
    "    variety.append(row.variety)\n",
    "    points.append(round(row.Average_Point,2))\n",
    "    if (row.Average_Price != None):\n",
    "        price.append(round(row.Average_Price))\n",
    "    else:\n",
    "        price.append(0)\n"
   ]
  },
  {
   "cell_type": "code",
   "execution_count": 18,
   "metadata": {},
   "outputs": [
    {
     "data": {
      "text/html": [
       "<div>\n",
       "<style>\n",
       "    .dataframe thead tr:only-child th {\n",
       "        text-align: right;\n",
       "    }\n",
       "\n",
       "    .dataframe thead th {\n",
       "        text-align: left;\n",
       "    }\n",
       "\n",
       "    .dataframe tbody tr th {\n",
       "        vertical-align: top;\n",
       "    }\n",
       "</style>\n",
       "<table border=\"1\" class=\"dataframe\">\n",
       "  <thead>\n",
       "    <tr style=\"text-align: right;\">\n",
       "      <th></th>\n",
       "      <th>State</th>\n",
       "      <th>Variety</th>\n",
       "      <th>Avg_Points</th>\n",
       "      <th>Avg_Price</th>\n",
       "    </tr>\n",
       "  </thead>\n",
       "  <tbody>\n",
       "    <tr>\n",
       "      <th>0</th>\n",
       "      <td>America</td>\n",
       "      <td>Barbera</td>\n",
       "      <td>83.00</td>\n",
       "      <td>18</td>\n",
       "    </tr>\n",
       "    <tr>\n",
       "      <th>1</th>\n",
       "      <td>America</td>\n",
       "      <td>Bordeaux-style Red Blend</td>\n",
       "      <td>87.00</td>\n",
       "      <td>38</td>\n",
       "    </tr>\n",
       "    <tr>\n",
       "      <th>2</th>\n",
       "      <td>America</td>\n",
       "      <td>Cabernet Sauvignon</td>\n",
       "      <td>85.50</td>\n",
       "      <td>20</td>\n",
       "    </tr>\n",
       "    <tr>\n",
       "      <th>3</th>\n",
       "      <td>America</td>\n",
       "      <td>Champagne Blend</td>\n",
       "      <td>87.00</td>\n",
       "      <td>16</td>\n",
       "    </tr>\n",
       "    <tr>\n",
       "      <th>4</th>\n",
       "      <td>America</td>\n",
       "      <td>Chardonnay</td>\n",
       "      <td>84.88</td>\n",
       "      <td>16</td>\n",
       "    </tr>\n",
       "  </tbody>\n",
       "</table>\n",
       "</div>"
      ],
      "text/plain": [
       "     State                   Variety  Avg_Points  Avg_Price\n",
       "0  America                   Barbera       83.00         18\n",
       "1  America  Bordeaux-style Red Blend       87.00         38\n",
       "2  America        Cabernet Sauvignon       85.50         20\n",
       "3  America           Champagne Blend       87.00         16\n",
       "4  America                Chardonnay       84.88         16"
      ]
     },
     "execution_count": 18,
     "metadata": {},
     "output_type": "execute_result"
    }
   ],
   "source": [
    "state_prpt=pd.DataFrame({\"State\":state,\n",
    "                    \"Variety\":variety,\n",
    "                    \"Avg_Points\":points,\n",
    "                    \"Avg_Price\":price}, columns=['State','Variety','Avg_Points','Avg_Price'])\n",
    "\n",
    "state_prpt.head()"
   ]
  },
  {
   "cell_type": "code",
   "execution_count": 23,
   "metadata": {},
   "outputs": [],
   "source": [
    "engine = create_engine('sqlite:///../raw_data/full_data/wine.sqlite')\n",
    "state_prpt.to_sql('prpt', engine, if_exists='replace')"
   ]
  },
  {
   "cell_type": "code",
   "execution_count": 48,
   "metadata": {},
   "outputs": [
    {
     "data": {
      "text/plain": [
       "['prpt', 'reviews', 'state_prpt']"
      ]
     },
     "execution_count": 48,
     "metadata": {},
     "output_type": "execute_result"
    }
   ],
   "source": [
    "engine.table_names()"
   ]
  },
  {
   "cell_type": "code",
   "execution_count": null,
   "metadata": {
    "collapsed": true
   },
   "outputs": [],
   "source": []
  }
 ],
 "metadata": {
  "kernelspec": {
   "display_name": "Python 3",
   "language": "python",
   "name": "python3"
  },
  "language_info": {
   "codemirror_mode": {
    "name": "ipython",
    "version": 3
   },
   "file_extension": ".py",
   "mimetype": "text/x-python",
   "name": "python",
   "nbconvert_exporter": "python",
   "pygments_lexer": "ipython3",
   "version": "3.6.2"
  }
 },
 "nbformat": 4,
 "nbformat_minor": 2
}
