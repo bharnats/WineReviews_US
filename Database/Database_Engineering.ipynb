{
 "cells": [
  {
   "cell_type": "markdown",
   "metadata": {},
   "source": [
    "# Database Engineering"
   ]
  },
  {
   "cell_type": "code",
   "execution_count": 8,
   "metadata": {
    "collapsed": true
   },
   "outputs": [],
   "source": [
    "# Read in dependencies\n",
    "import pandas as pd\n",
    "import sqlalchemy\n",
    "from sqlalchemy import create_engine, MetaData\n",
    "from sqlalchemy.ext.declarative import declarative_base\n",
    "from sqlalchemy import Column, Integer, String, Numeric, Text, Float, Date"
   ]
  },
  {
   "cell_type": "code",
   "execution_count": 9,
   "metadata": {
    "collapsed": true
   },
   "outputs": [],
   "source": [
    "# Create an engine to a SQLite database called 'wine.sqlite'\n",
    "engine = create_engine(\"sqlite:///wine_reviews.sqlite\")"
   ]
  },
  {
   "cell_type": "code",
   "execution_count": 10,
   "metadata": {
    "collapsed": true
   },
   "outputs": [],
   "source": [
    "# Create a connection to the engine\n",
    "conn = engine.connect()"
   ]
  },
  {
   "cell_type": "markdown",
   "metadata": {},
   "source": [
    "## Creating Table"
   ]
  },
  {
   "cell_type": "code",
   "execution_count": 4,
   "metadata": {
    "collapsed": true
   },
   "outputs": [],
   "source": [
    "# Use declarative_base to model the measurements \n",
    "Base = declarative_base()\n",
    "\n",
    "class Reviews(Base):\n",
    "    __tablename__ = 'reviews'\n",
    "    \n",
    "    id = Column(Integer, primary_key=True)\n",
    "    country = Column(Text)\n",
    "    description = Column(Text)\n",
    "    points = Column(Integer)\n",
    "    price = Column(Integer)\n",
    "    province = Column(Text)\n",
    "    region_1 = Column(Text)\n",
    "    title = Column(Text)\n",
    "    variety = Column(Text)\n",
    "    winery = Column(Text)\n",
    "    latitude = Column(Integer)\n",
    "    longitude = Column(Integer)"
   ]
  },
  {
   "cell_type": "code",
   "execution_count": 5,
   "metadata": {
    "collapsed": true
   },
   "outputs": [],
   "source": [
    "# Create the Reviews table in the database\n",
    "Base.metadata.create_all(engine)"
   ]
  },
  {
   "cell_type": "code",
   "execution_count": 11,
   "metadata": {},
   "outputs": [
    {
     "data": {
      "text/html": [
       "<div>\n",
       "<style>\n",
       "    .dataframe thead tr:only-child th {\n",
       "        text-align: right;\n",
       "    }\n",
       "\n",
       "    .dataframe thead th {\n",
       "        text-align: left;\n",
       "    }\n",
       "\n",
       "    .dataframe tbody tr th {\n",
       "        vertical-align: top;\n",
       "    }\n",
       "</style>\n",
       "<table border=\"1\" class=\"dataframe\">\n",
       "  <thead>\n",
       "    <tr style=\"text-align: right;\">\n",
       "      <th></th>\n",
       "      <th>country</th>\n",
       "      <th>description</th>\n",
       "      <th>points</th>\n",
       "      <th>price</th>\n",
       "      <th>province</th>\n",
       "      <th>region_1</th>\n",
       "      <th>title</th>\n",
       "      <th>variety</th>\n",
       "      <th>winery</th>\n",
       "      <th>latitude</th>\n",
       "      <th>longitude</th>\n",
       "    </tr>\n",
       "  </thead>\n",
       "  <tbody>\n",
       "    <tr>\n",
       "      <th>0</th>\n",
       "      <td>US</td>\n",
       "      <td>Tart and snappy, the flavors of lime flesh and...</td>\n",
       "      <td>87</td>\n",
       "      <td>14.0</td>\n",
       "      <td>Oregon</td>\n",
       "      <td>Willamette Valley</td>\n",
       "      <td>Rainstorm 2013 Pinot Gris (Willamette Valley)</td>\n",
       "      <td>Pinot Gris</td>\n",
       "      <td>Rainstorm</td>\n",
       "      <td>45.344287</td>\n",
       "      <td>-122.667037</td>\n",
       "    </tr>\n",
       "    <tr>\n",
       "      <th>1</th>\n",
       "      <td>US</td>\n",
       "      <td>Much like the regular bottling from 2012, this...</td>\n",
       "      <td>87</td>\n",
       "      <td>65.0</td>\n",
       "      <td>Oregon</td>\n",
       "      <td>Willamette Valley</td>\n",
       "      <td>Sweet Cheeks 2012 Vintner's Reserve Wild Child...</td>\n",
       "      <td>Pinot Noir</td>\n",
       "      <td>Sweet Cheeks</td>\n",
       "      <td>45.344287</td>\n",
       "      <td>-122.667037</td>\n",
       "    </tr>\n",
       "    <tr>\n",
       "      <th>2</th>\n",
       "      <td>US</td>\n",
       "      <td>A stiff, tannic wine, this slowly opens and br...</td>\n",
       "      <td>86</td>\n",
       "      <td>22.0</td>\n",
       "      <td>Oregon</td>\n",
       "      <td>Willamette Valley</td>\n",
       "      <td>Hawkins Cellars 2009 Pinot Noir (Willamette Va...</td>\n",
       "      <td>Pinot Noir</td>\n",
       "      <td>Hawkins Cellars</td>\n",
       "      <td>45.344287</td>\n",
       "      <td>-122.667037</td>\n",
       "    </tr>\n",
       "    <tr>\n",
       "      <th>3</th>\n",
       "      <td>US</td>\n",
       "      <td>This wine is bursting with gorgeous cherry fru...</td>\n",
       "      <td>91</td>\n",
       "      <td>38.0</td>\n",
       "      <td>Oregon</td>\n",
       "      <td>Willamette Valley</td>\n",
       "      <td>Le Cadeau 2014 Pinot Noir (Willamette Valley)</td>\n",
       "      <td>Pinot Noir</td>\n",
       "      <td>Le Cadeau</td>\n",
       "      <td>45.344287</td>\n",
       "      <td>-122.667037</td>\n",
       "    </tr>\n",
       "    <tr>\n",
       "      <th>4</th>\n",
       "      <td>US</td>\n",
       "      <td>There is an odd, piercing edge to the aromas, ...</td>\n",
       "      <td>85</td>\n",
       "      <td>28.0</td>\n",
       "      <td>Oregon</td>\n",
       "      <td>Willamette Valley</td>\n",
       "      <td>Silvan Ridge 2006 Reserve Pinot Noir (Willamet...</td>\n",
       "      <td>Pinot Noir</td>\n",
       "      <td>Silvan Ridge</td>\n",
       "      <td>45.344287</td>\n",
       "      <td>-122.667037</td>\n",
       "    </tr>\n",
       "  </tbody>\n",
       "</table>\n",
       "</div>"
      ],
      "text/plain": [
       "  country                                        description  points  price  \\\n",
       "0      US  Tart and snappy, the flavors of lime flesh and...      87   14.0   \n",
       "1      US  Much like the regular bottling from 2012, this...      87   65.0   \n",
       "2      US  A stiff, tannic wine, this slowly opens and br...      86   22.0   \n",
       "3      US  This wine is bursting with gorgeous cherry fru...      91   38.0   \n",
       "4      US  There is an odd, piercing edge to the aromas, ...      85   28.0   \n",
       "\n",
       "  province           region_1  \\\n",
       "0   Oregon  Willamette Valley   \n",
       "1   Oregon  Willamette Valley   \n",
       "2   Oregon  Willamette Valley   \n",
       "3   Oregon  Willamette Valley   \n",
       "4   Oregon  Willamette Valley   \n",
       "\n",
       "                                               title     variety  \\\n",
       "0      Rainstorm 2013 Pinot Gris (Willamette Valley)  Pinot Gris   \n",
       "1  Sweet Cheeks 2012 Vintner's Reserve Wild Child...  Pinot Noir   \n",
       "2  Hawkins Cellars 2009 Pinot Noir (Willamette Va...  Pinot Noir   \n",
       "3      Le Cadeau 2014 Pinot Noir (Willamette Valley)  Pinot Noir   \n",
       "4  Silvan Ridge 2006 Reserve Pinot Noir (Willamet...  Pinot Noir   \n",
       "\n",
       "            winery   latitude   longitude  \n",
       "0        Rainstorm  45.344287 -122.667037  \n",
       "1     Sweet Cheeks  45.344287 -122.667037  \n",
       "2  Hawkins Cellars  45.344287 -122.667037  \n",
       "3        Le Cadeau  45.344287 -122.667037  \n",
       "4     Silvan Ridge  45.344287 -122.667037  "
      ]
     },
     "execution_count": 11,
     "metadata": {},
     "output_type": "execute_result"
    }
   ],
   "source": [
    "# Load the cleaned csv file \n",
    "df = pd.read_csv(\"raw_data/raw_data/coordinates.csv\", index_col=0, encoding='utf-8')\n",
    "df.head()"
   ]
  },
  {
   "cell_type": "code",
   "execution_count": 7,
   "metadata": {},
   "outputs": [
    {
     "name": "stdout",
     "output_type": "stream",
     "text": [
      "{'Oregon': 4928, 'Michigan': 105, 'California': 33654, 'Virginia': 725, 'Washington': 7965, 'New York': 2456, 'Idaho': 26, 'Texas': 82, 'Pennsylvania': 17, 'New Jersey': 8, 'Missouri': 33, 'New Mexico': 44, 'Nevada': 3, 'Colorado': 62, 'Arizona': 39, 'Massachusetts': 6, 'Rhode Island': 1, 'Ohio': 10, 'Illinois': 5, 'North Carolina': 22, 'Iowa': 4, 'Vermont': 2, 'Kentucky': 1, 'Connecticut': 3, 'Hawaii': 1}\n"
     ]
    }
   ],
   "source": []
  },
  {
   "cell_type": "code",
   "execution_count": 12,
   "metadata": {
    "collapsed": true
   },
   "outputs": [],
   "source": [
    "# Change wine_df to a dictionary\n",
    "# orient='records' makes the dictionary list-like [{column -> value}]\n",
    "data_reviews = df.to_dict(orient='records')"
   ]
  },
  {
   "cell_type": "code",
   "execution_count": 13,
   "metadata": {},
   "outputs": [
    {
     "data": {
      "text/plain": [
       "{'country': 'US',\n",
       " 'description': 'Tart and snappy, the flavors of lime flesh and rind dominate. Some green pineapple pokes through, with crisp acidity underscoring the flavors. The wine was all stainless-steel fermented.',\n",
       " 'latitude': 45.3442868,\n",
       " 'longitude': -122.6670374,\n",
       " 'points': 87,\n",
       " 'price': 14.0,\n",
       " 'province': 'Oregon',\n",
       " 'region_1': 'Willamette Valley',\n",
       " 'title': 'Rainstorm 2013 Pinot Gris (Willamette Valley)',\n",
       " 'variety': 'Pinot Gris',\n",
       " 'winery': 'Rainstorm'}"
      ]
     },
     "execution_count": 13,
     "metadata": {},
     "output_type": "execute_result"
    }
   ],
   "source": [
    "# Data is now a list of dictionaries that represent each row of data.\n",
    "data_reviews[0]"
   ]
  },
  {
   "cell_type": "code",
   "execution_count": 14,
   "metadata": {
    "collapsed": true
   },
   "outputs": [],
   "source": [
    "# Use MetaData from SQLAlchemy to reflect the tables\n",
    "metadata = MetaData(bind=engine)\n",
    "metadata.reflect()"
   ]
  },
  {
   "cell_type": "code",
   "execution_count": 15,
   "metadata": {
    "collapsed": true
   },
   "outputs": [],
   "source": [
    "# Save the referenct to the 'reviews' table\n",
    "reviews_table = sqlalchemy.Table('reviews', metadata, autoload=True)"
   ]
  },
  {
   "cell_type": "code",
   "execution_count": 16,
   "metadata": {},
   "outputs": [
    {
     "data": {
      "text/plain": [
       "<sqlalchemy.engine.result.ResultProxy at 0x1b4f8ca90f0>"
      ]
     },
     "execution_count": 16,
     "metadata": {},
     "output_type": "execute_result"
    }
   ],
   "source": [
    "# Delete any pre-existing table\n",
    "# DO NOT USE STEP IN PRODUCTION\n",
    "conn.execute(reviews_table.delete())"
   ]
  },
  {
   "cell_type": "code",
   "execution_count": 17,
   "metadata": {},
   "outputs": [
    {
     "data": {
      "text/plain": [
       "<sqlalchemy.engine.result.ResultProxy at 0x1b4fc2cdef0>"
      ]
     },
     "execution_count": 17,
     "metadata": {},
     "output_type": "execute_result"
    }
   ],
   "source": [
    "# Insert data into the table\n",
    "conn.execute(reviews_table.insert(), data_reviews)"
   ]
  },
  {
   "cell_type": "code",
   "execution_count": 18,
   "metadata": {},
   "outputs": [
    {
     "data": {
      "text/plain": [
       "[(1, 'US', 'Tart and snappy, the flavors of lime flesh and rind dominate. Some green pineapple pokes through, with crisp acidity underscoring the flavors. The wine was all stainless-steel fermented.', 87, 14, 'Oregon', 'Willamette Valley', 'Rainstorm 2013 Pinot Gris (Willamette Valley)', 'Pinot Gris', 'Rainstorm', 45.3442868, -122.6670374),\n",
       " (2, 'US', \"Much like the regular bottling from 2012, this comes across as rather rough and tannic, with rustic, earthy, herbal characteristics. Nonetheless, if you think of it as a pleasantly unfussy country wine, it's a good companion to a hearty winter stew.\", 87, 65, 'Oregon', 'Willamette Valley', \"Sweet Cheeks 2012 Vintner's Reserve Wild Child Block Pinot Noir (Willamette Valley)\", 'Pinot Noir', 'Sweet Cheeks', 45.3442868, -122.6670374),\n",
       " (3, 'US', \"A stiff, tannic wine, this slowly opens and brings brambly berry flavors into play, along with notes of earthy herbs. There's a touch of bitterness to the tannins.\", 86, 22, 'Oregon', 'Willamette Valley', 'Hawkins Cellars 2009 Pinot Noir (Willamette Valley)', 'Pinot Noir', 'Hawkins Cellars', 45.3442868, -122.6670374),\n",
       " (4, 'US', 'This wine is bursting with gorgeous cherry fruit, forward and luscious. The tannins are ripe and the acids in perfect proportion, keeping the fruit flavors buoyed upon a textural ride into a lingering finish.', 91, 38, 'Oregon', 'Willamette Valley', 'Le Cadeau 2014 Pinot Noir (Willamette Valley)', 'Pinot Noir', 'Le Cadeau', 45.3442868, -122.6670374),\n",
       " (5, 'US', \"There is an odd, piercing edge to the aromas, a mix of acetic acid and pungent herb, with a hint of diesel. Somehow it's not off-putting, just atypic ... (47 characters truncated) ... nd cranberry, very earthy and tasting of dirt and bark in the finish. This could be quite pleasant with a hearty, rustic dish such as beef Bourgogne.\", 85, 28, 'Oregon', 'Willamette Valley', 'Silvan Ridge 2006 Reserve Pinot Noir (Willamette Valley)', 'Pinot Noir', 'Silvan Ridge', 45.3442868, -122.6670374)]"
      ]
     },
     "execution_count": 18,
     "metadata": {},
     "output_type": "execute_result"
    }
   ],
   "source": [
    "# Test the first 5 rows\n",
    "conn.execute('SELECT * FROM reviews LIMIT 5').fetchall()"
   ]
  }
 ],
 "metadata": {
  "kernelspec": {
   "display_name": "Python 3",
   "language": "python",
   "name": "python3"
  },
  "language_info": {
   "codemirror_mode": {
    "name": "ipython",
    "version": 3
   },
   "file_extension": ".py",
   "mimetype": "text/x-python",
   "name": "python",
   "nbconvert_exporter": "python",
   "pygments_lexer": "ipython3",
   "version": "3.6.3"
  }
 },
 "nbformat": 4,
 "nbformat_minor": 2
}
